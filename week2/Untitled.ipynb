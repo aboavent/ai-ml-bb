{
 "cells": [
  {
   "cell_type": "markdown",
   "metadata": {},
   "source": [
    "# Labs\n",
    "\n",
    "## Steps to login to AWS Account provided by the instructor.\n",
    "\n",
    "1. Click the [URL](https://dashboard.eventengine.run/dashboard)\n",
    "2. Enter the AWS provided hash code in the text box and click \"Accept Terms and Login\"\n",
    "3. Select \"Continue With Login with Amazon\" in following screen \n",
    "    ![Amazon login](../images/aws-account-login/amazonretaillogin.png)\n",
    "4. Enter your Amazon retail account credetials to login in the next screen\n",
    "    ![Amazon login2](../images/aws-account-login/amazonretiallogin2.png)\n",
    "5. Follow below screen instructions to get to AWS Console\n",
    "    ![awscosnole](../images/aws-account-login/AWSConsole.png)\n",
    "    \n",
    "    ![awscosnole2](../images/aws-account-login/openawsconsole.png)\n",
    "    \n",
    "## Setting up the SageMaker Studio\n",
    "\n",
    "1. Open pen SageMaker Service from AWS Console\n",
    "\n",
    "2. Open SageMaker Studio\n",
    "\n",
    "    ![Open Studio](../images/studio-instance/click-studio.png)\n",
    "    \n",
    "3. Choose create new role\n",
    "\n",
    "    ![ima-role](../images/studio-instance/iam-role.png)\n",
    "    \n",
    "4. Choose default S3 permissions\n",
    "\n",
    "    ![s3 perm](../images/studio-instance/s3-perm.png)\n",
    "    \n",
    "4. Once the Studio is ready click \"Open Studio\"\n",
    "\n",
    "    ![open studio](../images/studio-instance/open-studio.png)\n",
    "    \n",
    "5. Open Terminal in Studio\n",
    "\n",
    "    ![studio terminal](../images/studio-instance/studio-terminal.png)\n",
    "    \n",
    "6. Clone the repository \n",
    "\n",
    "    git clone https://github.com/saidababu/ai-ml-bb\n",
    "\n",
    "## License\n",
    "\n",
    "This library is licensed under the MIT-0 License. See the LICENSE file."
   ]
  },
  {
   "cell_type": "code",
   "execution_count": null,
   "metadata": {},
   "outputs": [],
   "source": []
  }
 ],
 "metadata": {
  "kernelspec": {
   "display_name": "Python 3 (Data Science)",
   "language": "python",
   "name": "python3__SAGEMAKER_INTERNAL__arn:aws:sagemaker:us-west-2:236514542706:image/datascience-1.0"
  },
  "language_info": {
   "codemirror_mode": {
    "name": "ipython",
    "version": 3
   },
   "file_extension": ".py",
   "mimetype": "text/x-python",
   "name": "python",
   "nbconvert_exporter": "python",
   "pygments_lexer": "ipython3",
   "version": "3.7.6"
  }
 },
 "nbformat": 4,
 "nbformat_minor": 4
}
